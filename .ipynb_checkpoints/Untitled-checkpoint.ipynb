{
 "cells": [
  {
   "cell_type": "code",
   "execution_count": 12,
   "id": "578a5b8e-090e-4b58-ae10-77cf7dfc1b0d",
   "metadata": {},
   "outputs": [],
   "source": [
    "import redis\n",
    "import aiogram\n",
    "from aiogram.utils.callback_data import CallbackData"
   ]
  },
  {
   "cell_type": "code",
   "execution_count": 5,
   "id": "88197a89-a6af-4c2d-8c22-9fc1cbccd356",
   "metadata": {},
   "outputs": [],
   "source": [
    "rc = redis.Redis(host = \"localhost\", port = 6379, decode_responses=True)"
   ]
  },
  {
   "cell_type": "code",
   "execution_count": 3,
   "id": "e5250863-221d-420d-ba6c-80a2d887f8a7",
   "metadata": {},
   "outputs": [
    {
     "data": {
      "text/plain": [
       "True"
      ]
     },
     "execution_count": 3,
     "metadata": {},
     "output_type": "execute_result"
    }
   ],
   "source": [
    "rc.json().set(\"session\", \"$\", {\n",
    "  \"worker\":0,\n",
    "  \"start_session\":0,\n",
    "  \"order_id\":1,\n",
    "  \"rachunki\":[]\n",
    "})"
   ]
  },
  {
   "cell_type": "code",
   "execution_count": 77,
   "id": "aeaed012-130e-461e-b1d4-747fb61248f3",
   "metadata": {},
   "outputs": [
    {
     "data": {
      "text/plain": [
       "[[{'test': 'test'}, {'adb': 'cda'}, {'adb': 'cda'}]]"
      ]
     },
     "execution_count": 77,
     "metadata": {},
     "output_type": "execute_result"
    }
   ],
   "source": [
    "table = \"S7\"\n",
    "rc.json().get(\"session\", f\"$.rachunki.[?(@.table=='{table}')]['orders']\")\n"
   ]
  },
  {
   "cell_type": "code",
   "execution_count": 10,
   "id": "b967b04f-9449-455a-a09c-461eecfd63b4",
   "metadata": {},
   "outputs": [
    {
     "data": {
      "text/plain": [
       "[{'table': 'S1', 'person': '2', 'orders': [], 'order_id': 1},\n",
       " {'table': 'S2', 'person': '2', 'orders': [], 'order_id': 2}]"
      ]
     },
     "execution_count": 10,
     "metadata": {},
     "output_type": "execute_result"
    }
   ],
   "source": [
    "rc.json().get(\"session\", \"$.rachunki\")[0]"
   ]
  },
  {
   "cell_type": "code",
   "execution_count": null,
   "id": "4eaf9fe4-6c4a-4316-bf1f-472d0a2c6d60",
   "metadata": {},
   "outputs": [],
   "source": []
  },
  {
   "cell_type": "code",
   "execution_count": 10,
   "id": "4d0803e7-ad0e-473a-b0b0-2190afa72e99",
   "metadata": {},
   "outputs": [],
   "source": [
    "\n",
    "from dataclasses import dataclass, field, is_dataclass\n",
    "from typing import List\n",
    "\n",
    "def database_connector():\n",
    "\treturn redis.Redis(host = \"localhost\", port = 6379, decode_responses=True)\n",
    "\n",
    "@dataclass\n",
    "class Order:\n",
    "    order_id: int\n",
    "    cart: list = field(default_factory = list) \n",
    "\n",
    "@dataclass\n",
    "class Bill():\n",
    "\ttable_name: str\n",
    "\tpersons: int\n",
    "\torders: list = field(default_factory = list)\n",
    "\n",
    "\tdef __repr__(self):\n",
    "\t\treturn self.table_name\n",
    "\n",
    "\tdef update_orders(self, order: Order):\n",
    "\t\tself.orders.append(order)\n",
    "\n",
    "\tdef get_orders(self):\n",
    "\t\treturn self.orders\n",
    "\n",
    "@dataclass\n",
    "class Session:\n",
    "    def __init__(self, db):\n",
    "        self.db = db\n",
    "        self.cache = self.db.json().get(\"session\", \"$\")[0]\n",
    "        self.worker = self.cache.get(\"worker\")\n",
    "        self.order_id = self.cache.get(\"order_id\")\n",
    "        self.bills = []\n",
    "\n",
    "        if self.cache.get(\"rachunki\"):\n",
    "            for bill in self.cache.get(\"rachunki\"):\n",
    "                self.append_bill(Bill(**bill))\n",
    "\n",
    "    def append_bill(self, bill: Bill):\n",
    "        if is_dataclass(bill):\n",
    "            self.bills.append(bill)\n",
    "    def get_all_bills(self):\n",
    "        return self.bills\n",
    "    \n",
    "    def get_bill(self, table_name):\n",
    "        if any(bill for bill in self.bills if bill.table_name == table_name):\n",
    "            return [bill for bill in self.bills if bill.table_name == table_name][0]\n",
    "        return\n"
   ]
  },
  {
   "cell_type": "code",
   "execution_count": 13,
   "id": "341eb7dc-4ddf-4184-8b16-ff264d41f176",
   "metadata": {},
   "outputs": [
    {
     "ename": "TypeError",
     "evalue": "descriptor '__init__' requires a 'super' object but received a 'Redis'",
     "output_type": "error",
     "traceback": [
      "\u001b[0;31m---------------------------------------------------------------------------\u001b[0m",
      "\u001b[0;31mTypeError\u001b[0m                                 Traceback (most recent call last)",
      "Cell \u001b[0;32mIn[13], line 2\u001b[0m\n\u001b[1;32m      1\u001b[0m \u001b[38;5;66;03m# data = rc.json().get(\"session\",\"$.rachunki\")[0]\u001b[39;00m\n\u001b[0;32m----> 2\u001b[0m session \u001b[38;5;241m=\u001b[39m \u001b[43mSession\u001b[49m\u001b[43m(\u001b[49m\u001b[43mdatabase_connector\u001b[49m\u001b[43m(\u001b[49m\u001b[43m)\u001b[49m\u001b[43m)\u001b[49m\n\u001b[1;32m      3\u001b[0m \u001b[38;5;66;03m# for bill in data:\u001b[39;00m\n\u001b[1;32m      4\u001b[0m \u001b[38;5;66;03m#     session.append_bill(Bill(**bill))\u001b[39;00m\n\u001b[1;32m      6\u001b[0m session\u001b[38;5;241m.\u001b[39mget_all_bills()\n",
      "Cell \u001b[0;32mIn[10], line 30\u001b[0m, in \u001b[0;36mSession.__init__\u001b[0;34m(self, db)\u001b[0m\n\u001b[1;32m     29\u001b[0m \u001b[38;5;28;01mdef\u001b[39;00m \u001b[38;5;21m__init__\u001b[39m(\u001b[38;5;28mself\u001b[39m, db):\n\u001b[0;32m---> 30\u001b[0m     \u001b[38;5;28;43msuper\u001b[39;49m\u001b[38;5;241;43m.\u001b[39;49m\u001b[38;5;21;43m__init__\u001b[39;49m\u001b[43m(\u001b[49m\u001b[43mdb\u001b[49m\u001b[43m,\u001b[49m\u001b[43m \u001b[49m\u001b[43mdb\u001b[49m\u001b[43m)\u001b[49m\n\u001b[1;32m     31\u001b[0m     \u001b[38;5;28mself\u001b[39m\u001b[38;5;241m.\u001b[39mdb \u001b[38;5;241m=\u001b[39m db\n\u001b[1;32m     32\u001b[0m     \u001b[38;5;28mself\u001b[39m\u001b[38;5;241m.\u001b[39mcache \u001b[38;5;241m=\u001b[39m \u001b[38;5;28mself\u001b[39m\u001b[38;5;241m.\u001b[39mdb\u001b[38;5;241m.\u001b[39mjson()\u001b[38;5;241m.\u001b[39mget(\u001b[38;5;124m\"\u001b[39m\u001b[38;5;124msession\u001b[39m\u001b[38;5;124m\"\u001b[39m, \u001b[38;5;124m\"\u001b[39m\u001b[38;5;124m$\u001b[39m\u001b[38;5;124m\"\u001b[39m)[\u001b[38;5;241m0\u001b[39m]\n",
      "\u001b[0;31mTypeError\u001b[0m: descriptor '__init__' requires a 'super' object but received a 'Redis'"
     ]
    }
   ],
   "source": [
    "# data = rc.json().get(\"session\",\"$.rachunki\")[0]\n",
    "session = Session(database_connector())\n",
    "# for bill in data:\n",
    "#     session.append_bill(Bill(**bill))\n",
    "\n",
    "session.get_all_bills()\n",
    "\n",
    "\n"
   ]
  },
  {
   "cell_type": "code",
   "execution_count": 82,
   "id": "62907c25-0516-41f7-987d-da5e7fb25597",
   "metadata": {},
   "outputs": [
    {
     "data": {
      "text/plain": [
       "[3]"
      ]
     },
     "execution_count": 82,
     "metadata": {},
     "output_type": "execute_result"
    }
   ],
   "source": [
    "z = {\n",
    "      \"table\":\"S9\",\n",
    "      \"person\":4,\n",
    "      \"orders\":[\n",
    "      ]\n",
    "    }\n",
    "rc.json().arrappend(\"session\", \"$.rachunki\", z)"
   ]
  },
  {
   "cell_type": "code",
   "execution_count": 195,
   "id": "1fddeeac-8ffc-4d74-8ef2-6b7827508fd4",
   "metadata": {},
   "outputs": [
    {
     "data": {
      "text/plain": [
       "{'worker': 0,\n",
       " 'start_session': 0,\n",
       " 'order_id': 3,\n",
       " 'rachunki': [{'table_name': 'S2', 'persons': 2, 'orders': []},\n",
       "  {'table_name': 'S3', 'persons': 5, 'orders': []}]}"
      ]
     },
     "execution_count": 195,
     "metadata": {},
     "output_type": "execute_result"
    }
   ],
   "source": [
    "rc.json().get(\"session\", \"$\")[0]"
   ]
  },
  {
   "cell_type": "code",
   "execution_count": 4,
   "id": "6e73b106-9157-4b7e-8b0d-b263b41dc2a9",
   "metadata": {},
   "outputs": [
    {
     "data": {
      "text/plain": [
       "[1]"
      ]
     },
     "execution_count": 4,
     "metadata": {},
     "output_type": "execute_result"
    }
   ],
   "source": [
    "rc.json().arrappend(\"session\", \"$.rachunki.[?(@.table=='S7')]['orders']\", {\"order_id\":1, })"
   ]
  },
  {
   "cell_type": "code",
   "execution_count": 105,
   "id": "f3fe2bbc-8c64-474b-a96b-fb41bf9eb4c1",
   "metadata": {},
   "outputs": [
    {
     "data": {
      "text/plain": [
       "{'@': 'tabacco', 'brand': 'darkside', 'title': 'tropical_ray'}"
      ]
     },
     "execution_count": 105,
     "metadata": {},
     "output_type": "execute_result"
    }
   ],
   "source": [
    "test = CallbackData(\"tabacco\", \"brand\", \"title\")\n",
    "\n",
    "# test.pack(\"tabacco:darkside:tropical_ray\")\n",
    "test.parse(\"tabacco:darkside:tropical_ray\")"
   ]
  },
  {
   "cell_type": "code",
   "execution_count": 136,
   "id": "2532c3c2-7661-4005-be43-60a877ae7775",
   "metadata": {},
   "outputs": [
    {
     "data": {
      "text/plain": [
       "[{'tabacco:darkside:tropical_ray': 8},\n",
       " {'tabacco:darkside:pablo': 10},\n",
       " {'tabacco:starline:ananas': 5}]"
      ]
     },
     "execution_count": 136,
     "metadata": {},
     "output_type": "execute_result"
    }
   ],
   "source": [
    "rc.json().get(\"defaul_menu\", \"$.*.[?(@.id==2)].tabacco\")[0]"
   ]
  },
  {
   "cell_type": "code",
   "execution_count": 139,
   "id": "830d8bf2-bc25-4643-8d27-1a23ae75ef42",
   "metadata": {},
   "outputs": [
    {
     "data": {
      "text/plain": [
       "['Hokah', 'Packages']"
      ]
     },
     "execution_count": 139,
     "metadata": {},
     "output_type": "execute_result"
    }
   ],
   "source": [
    "rc.json().objkeys(\"defaul_menu\", \"$\")[0]"
   ]
  },
  {
   "cell_type": "code",
   "execution_count": 133,
   "id": "92c01632-4c56-4d2f-b2fa-d791f68f9281",
   "metadata": {},
   "outputs": [
    {
     "data": {
      "text/plain": [
       "[2]"
      ]
     },
     "execution_count": 133,
     "metadata": {},
     "output_type": "execute_result"
    }
   ],
   "source": [
    "t = {'type': 'default',\n",
    " 'name': 'Double Apple Anis',\n",
    " 'cost': 80,\n",
    " 'tabacco': [{'tabacco:darkside:tropical_ray': 8},\n",
    "  {'tabacco:darkside:pablo': 10},\n",
    "  {'tabacco:starline:ananas': 5}],\n",
    " 'description': 'bla bla bla',\n",
    " 'id': 2}\n",
    "rc.json().arrappend(\"defaul_menu\", \"$.Hokah\", t)"
   ]
  }
 ],
 "metadata": {
  "kernelspec": {
   "display_name": "Python 3 (ipykernel)",
   "language": "python",
   "name": "python3"
  },
  "language_info": {
   "codemirror_mode": {
    "name": "ipython",
    "version": 3
   },
   "file_extension": ".py",
   "mimetype": "text/x-python",
   "name": "python",
   "nbconvert_exporter": "python",
   "pygments_lexer": "ipython3",
   "version": "3.8.10"
  }
 },
 "nbformat": 4,
 "nbformat_minor": 5
}
