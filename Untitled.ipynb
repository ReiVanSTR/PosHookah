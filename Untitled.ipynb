{
 "cells": [
  {
   "cell_type": "code",
   "execution_count": 5,
   "id": "c0c74a57",
   "metadata": {},
   "outputs": [
    {
     "ename": "ModuleNotFoundError",
     "evalue": "No module named 'redis'",
     "output_type": "error",
     "traceback": [
      "\u001b[0;31m---------------------------------------------------------------------------\u001b[0m",
      "\u001b[0;31mModuleNotFoundError\u001b[0m                       Traceback (most recent call last)",
      "Cell \u001b[0;32mIn[5], line 1\u001b[0m\n\u001b[0;32m----> 1\u001b[0m \u001b[38;5;28;01mimport\u001b[39;00m \u001b[38;5;21;01mredis\u001b[39;00m\n\u001b[1;32m      2\u001b[0m \u001b[38;5;28;01mimport\u001b[39;00m \u001b[38;5;21;01maiogram\u001b[39;00m\n\u001b[1;32m      3\u001b[0m \u001b[38;5;28;01mfrom\u001b[39;00m \u001b[38;5;21;01maiogram\u001b[39;00m\u001b[38;5;21;01m.\u001b[39;00m\u001b[38;5;21;01mutils\u001b[39;00m\u001b[38;5;21;01m.\u001b[39;00m\u001b[38;5;21;01mcallback_data\u001b[39;00m \u001b[38;5;28;01mimport\u001b[39;00m CallbackData\n",
      "\u001b[0;31mModuleNotFoundError\u001b[0m: No module named 'redis'"
     ]
    }
   ],
   "source": [
    "import redis\n",
    "import aiogram\n",
    "from aiogram.utils.callback_data import CallbackData"
   ]
  },
  {
   "cell_type": "code",
   "execution_count": 5,
   "id": "14d61bf2",
   "metadata": {},
   "outputs": [],
   "source": [
    "rc = redis.Redis(host = \"localhost\", port = 6379, decode_responses=True)"
   ]
  },
  {
   "cell_type": "code",
   "execution_count": 3,
   "id": "84964a99",
   "metadata": {},
   "outputs": [
    {
     "data": {
      "text/plain": [
       "True"
      ]
     },
     "execution_count": 3,
     "metadata": {},
     "output_type": "execute_result"
    }
   ],
   "source": [
    "rc.json().set(\"session\", \"$\", {\n",
    "  \"worker\":0,\n",
    "  \"start_session\":0,\n",
    "  \"order_id\":1,\n",
    "  \"rachunki\":[]\n",
    "})"
   ]
  },
  {
   "cell_type": "code",
   "execution_count": 77,
   "id": "715767b7",
   "metadata": {},
   "outputs": [
    {
     "data": {
      "text/plain": [
       "[[{'test': 'test'}, {'adb': 'cda'}, {'adb': 'cda'}]]"
      ]
     },
     "execution_count": 77,
     "metadata": {},
     "output_type": "execute_result"
    }
   ],
   "source": [
    "table = \"S7\"\n",
    "rc.json().get(\"session\", f\"$.rachunki.[?(@.table=='{table}')]['orders']\")\n"
   ]
  },
  {
   "cell_type": "code",
   "execution_count": 10,
   "id": "7b06e362",
   "metadata": {},
   "outputs": [
    {
     "data": {
      "text/plain": [
       "[{'table': 'S1', 'person': '2', 'orders': [], 'order_id': 1},\n",
       " {'table': 'S2', 'person': '2', 'orders': [], 'order_id': 2}]"
      ]
     },
     "execution_count": 10,
     "metadata": {},
     "output_type": "execute_result"
    }
   ],
   "source": [
    "rc.json().get(\"session\", \"$.rachunki\")[0]"
   ]
  },
  {
   "cell_type": "code",
   "execution_count": null,
   "id": "b389121c",
   "metadata": {},
   "outputs": [],
   "source": []
  },
  {
   "cell_type": "code",
   "execution_count": 16,
   "id": "d2daa229",
   "metadata": {},
   "outputs": [],
   "source": [
    "\n",
    "from dataclasses import dataclass, field, is_dataclass\n",
    "from typing import List\n",
    "\n",
    "def database_connector():\n",
    "\treturn redis.Redis(host = \"localhost\", port = 6379, decode_responses=True)\n",
    "\n",
    "@dataclass\n",
    "class Order:\n",
    "    order_id: int\n",
    "    cart: list = field(default_factory = list) \n",
    "\n",
    "@dataclass\n",
    "class Bill():\n",
    "\ttable_name: str\n",
    "\tpersons: int\n",
    "\torders: list = field(default_factory = list)\n",
    "\n",
    "\tdef __repr__(self):\n",
    "\t\treturn self.table_name\n",
    "\n",
    "\tdef update_orders(self, order: Order):\n",
    "\t\tself.orders.append(order)\n",
    "\n",
    "\tdef get_orders(self):\n",
    "\t\treturn self.orders\n",
    "\n",
    "@dataclass\n",
    "class Session:\n",
    "    def __init__(self, db):\n",
    "        self.db = db\n",
    "        self.cache = self.db.json().get(\"session\", \"$\")[0]\n",
    "        self.worker = self.cache.get(\"worker\")\n",
    "        self.order_id = self.cache.get(\"order_id\")\n",
    "        self.bills = []\n",
    "\n",
    "        if self.cache.get(\"rachunki\"):\n",
    "            for bill in self.cache.get(\"rachunki\"):\n",
    "                self.append_bill(Bill(**bill))\n",
    "\n",
    "    def append_bill(self, bill: Bill):\n",
    "        if is_dataclass(bill):\n",
    "            self.bills.append(bill)\n",
    "    def get_all_bills(self):\n",
    "        return self.bills\n",
    "    \n",
    "    def get_bill(self, table_name):\n",
    "        if any(bill for bill in self.bills if bill.table_name == table_name):\n",
    "            return [bill for bill in self.bills if bill.table_name == table_name][0]\n",
    "        return\n"
   ]
  },
  {
   "cell_type": "code",
   "execution_count": 1,
   "id": "9b60f37b",
   "metadata": {},
   "outputs": [
    {
     "ename": "NameError",
     "evalue": "name 'Session' is not defined",
     "output_type": "error",
     "traceback": [
      "\u001b[0;31m---------------------------------------------------------------------------\u001b[0m",
      "\u001b[0;31mNameError\u001b[0m                                 Traceback (most recent call last)",
      "Cell \u001b[0;32mIn[1], line 2\u001b[0m\n\u001b[1;32m      1\u001b[0m \u001b[38;5;66;03m# data = rc.json().get(\"session\",\"$.rachunki\")[0]\u001b[39;00m\n\u001b[0;32m----> 2\u001b[0m session \u001b[38;5;241m=\u001b[39m \u001b[43mSession\u001b[49m(database_connector())\n\u001b[1;32m      3\u001b[0m \u001b[38;5;66;03m# for bill in data:\u001b[39;00m\n\u001b[1;32m      4\u001b[0m \u001b[38;5;66;03m#     session.append_bill(Bill(**bill))\u001b[39;00m\n\u001b[1;32m      6\u001b[0m session\u001b[38;5;241m.\u001b[39mget_all_bills()\n",
      "\u001b[0;31mNameError\u001b[0m: name 'Session' is not defined"
     ]
    }
   ],
   "source": [
    "# data = rc.json().get(\"session\",\"$.rachunki\")[0]\n",
    "session = Session(database_connector())\n",
    "# for bill in data:\n",
    "#     session.append_bill(Bill(**bill))\n",
    "\n",
    "session.get_all_bills()\n",
    "\n",
    "\n"
   ]
  },
  {
   "cell_type": "code",
   "execution_count": 82,
   "id": "8cc979d8",
   "metadata": {},
   "outputs": [
    {
     "data": {
      "text/plain": [
       "[3]"
      ]
     },
     "execution_count": 82,
     "metadata": {},
     "output_type": "execute_result"
    }
   ],
   "source": [
    "z = {\n",
    "      \"table\":\"S9\",\n",
    "      \"person\":4,\n",
    "      \"orders\":[\n",
    "      ]\n",
    "    }\n",
    "rc.json().arrappend(\"session\", \"$.rachunki\", z)"
   ]
  },
  {
   "cell_type": "code",
   "execution_count": 195,
   "id": "288c91a5",
   "metadata": {},
   "outputs": [
    {
     "data": {
      "text/plain": [
       "{'worker': 0,\n",
       " 'start_session': 0,\n",
       " 'order_id': 3,\n",
       " 'rachunki': [{'table_name': 'S2', 'persons': 2, 'orders': []},\n",
       "  {'table_name': 'S3', 'persons': 5, 'orders': []}]}"
      ]
     },
     "execution_count": 195,
     "metadata": {},
     "output_type": "execute_result"
    }
   ],
   "source": [
    "rc.json().get(\"session\", \"$\")[0]"
   ]
  },
  {
   "cell_type": "code",
   "execution_count": 4,
   "id": "103588ef",
   "metadata": {},
   "outputs": [
    {
     "data": {
      "text/plain": [
       "[1]"
      ]
     },
     "execution_count": 4,
     "metadata": {},
     "output_type": "execute_result"
    }
   ],
   "source": [
    "rc.json().arrappend(\"session\", \"$.rachunki.[?(@.table=='S7')]['orders']\", {\"order_id\":1, })"
   ]
  },
  {
   "cell_type": "code",
   "execution_count": 105,
   "id": "223eeff5",
   "metadata": {},
   "outputs": [
    {
     "data": {
      "text/plain": [
       "{'@': 'tabacco', 'brand': 'darkside', 'title': 'tropical_ray'}"
      ]
     },
     "execution_count": 105,
     "metadata": {},
     "output_type": "execute_result"
    }
   ],
   "source": [
    "test = CallbackData(\"tabacco\", \"brand\", \"title\")\n",
    "\n",
    "# test.pack(\"tabacco:darkside:tropical_ray\")\n",
    "test.parse(\"tabacco:darkside:tropical_ray\")"
   ]
  },
  {
   "cell_type": "code",
   "execution_count": 136,
   "id": "874969d9",
   "metadata": {},
   "outputs": [
    {
     "data": {
      "text/plain": [
       "[{'tabacco:darkside:tropical_ray': 8},\n",
       " {'tabacco:darkside:pablo': 10},\n",
       " {'tabacco:starline:ananas': 5}]"
      ]
     },
     "execution_count": 136,
     "metadata": {},
     "output_type": "execute_result"
    }
   ],
   "source": [
    "rc.json().get(\"defaul_menu\", \"$.*.[?(@.id==2)].tabacco\")[0]"
   ]
  },
  {
   "cell_type": "code",
   "execution_count": 139,
   "id": "39a6a3ce",
   "metadata": {},
   "outputs": [
    {
     "data": {
      "text/plain": [
       "['Hokah', 'Packages']"
      ]
     },
     "execution_count": 139,
     "metadata": {},
     "output_type": "execute_result"
    }
   ],
   "source": [
    "rc.json().objkeys(\"defaul_menu\", \"$\")[0]"
   ]
  },
  {
   "cell_type": "code",
   "execution_count": 4,
   "id": "56e4fdd3",
   "metadata": {},
   "outputs": [
    {
     "ename": "NameError",
     "evalue": "name 'rc' is not defined",
     "output_type": "error",
     "traceback": [
      "\u001b[0;31m---------------------------------------------------------------------------\u001b[0m",
      "\u001b[0;31mNameError\u001b[0m                                 Traceback (most recent call last)",
      "Cell \u001b[0;32mIn[4], line 9\u001b[0m\n\u001b[1;32m      1\u001b[0m t \u001b[38;5;241m=\u001b[39m {\u001b[38;5;124m'\u001b[39m\u001b[38;5;124mtype\u001b[39m\u001b[38;5;124m'\u001b[39m: \u001b[38;5;124m'\u001b[39m\u001b[38;5;124mdefault\u001b[39m\u001b[38;5;124m'\u001b[39m,\n\u001b[1;32m      2\u001b[0m  \u001b[38;5;124m'\u001b[39m\u001b[38;5;124mname\u001b[39m\u001b[38;5;124m'\u001b[39m: \u001b[38;5;124m'\u001b[39m\u001b[38;5;124mDouble Apple Anis\u001b[39m\u001b[38;5;124m'\u001b[39m,\n\u001b[1;32m      3\u001b[0m  \u001b[38;5;124m'\u001b[39m\u001b[38;5;124mcost\u001b[39m\u001b[38;5;124m'\u001b[39m: \u001b[38;5;241m80\u001b[39m,\n\u001b[0;32m   (...)\u001b[0m\n\u001b[1;32m      7\u001b[0m  \u001b[38;5;124m'\u001b[39m\u001b[38;5;124mdescription\u001b[39m\u001b[38;5;124m'\u001b[39m: \u001b[38;5;124m'\u001b[39m\u001b[38;5;124mbla bla bla\u001b[39m\u001b[38;5;124m'\u001b[39m,\n\u001b[1;32m      8\u001b[0m  \u001b[38;5;124m'\u001b[39m\u001b[38;5;124mid\u001b[39m\u001b[38;5;124m'\u001b[39m: \u001b[38;5;241m2\u001b[39m}\n\u001b[0;32m----> 9\u001b[0m \u001b[43mrc\u001b[49m\u001b[38;5;241m.\u001b[39mjson()\u001b[38;5;241m.\u001b[39marrappend(\u001b[38;5;124m\"\u001b[39m\u001b[38;5;124mdefaul_menu\u001b[39m\u001b[38;5;124m\"\u001b[39m, \u001b[38;5;124m\"\u001b[39m\u001b[38;5;124m$.Hookah\u001b[39m\u001b[38;5;124m\"\u001b[39m, t)\n",
      "\u001b[0;31mNameError\u001b[0m: name 'rc' is not defined"
     ]
    }
   ],
   "source": [
    "t = {'type': 'default',\n",
    " 'name': 'Double Apple Anis',\n",
    " 'cost': 80,\n",
    " 'tabacco': [{'tabacco:darkside:tropical_ray': 8},\n",
    "  {'tabacco:darkside:pablo': 10},\n",
    "  {'tabacco:starline:ananas': 5}],\n",
    " 'description': 'bla bla bla',\n",
    " 'id': 2}\n",
    "rc.json().arrappend(\"defaul_menu\", \"$.Hookah\", t)"
   ]
  }
 ],
 "metadata": {
  "kernelspec": {
   "display_name": "Python 3 (ipykernel)",
   "language": "python",
   "name": "python3"
  },
  "language_info": {
   "codemirror_mode": {
    "name": "ipython",
    "version": 3
   },
   "file_extension": ".py",
   "mimetype": "text/x-python",
   "name": "python",
   "nbconvert_exporter": "python",
   "pygments_lexer": "ipython3",
   "version": "3.8.10"
  }
 },
 "nbformat": 4,
 "nbformat_minor": 5
}
